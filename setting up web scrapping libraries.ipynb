{
 "cells": [
  {
   "cell_type": "code",
   "execution_count": 2,
   "id": "c61af4fe",
   "metadata": {},
   "outputs": [],
   "source": [
    "## in anaconda prompt\n",
    "### type"
   ]
  },
  {
   "cell_type": "code",
   "execution_count": 3,
   "id": "7aa8489d",
   "metadata": {},
   "outputs": [],
   "source": [
    "#  pip install requests"
   ]
  },
  {
   "cell_type": "code",
   "execution_count": 4,
   "id": "a5297a11",
   "metadata": {},
   "outputs": [],
   "source": [
    "# pip install lxml"
   ]
  },
  {
   "cell_type": "code",
   "execution_count": 5,
   "id": "909cb662",
   "metadata": {},
   "outputs": [],
   "source": [
    "#  pip install bs4"
   ]
  },
  {
   "cell_type": "code",
   "execution_count": 6,
   "id": "6fbfc23a",
   "metadata": {},
   "outputs": [],
   "source": [
    "import requests"
   ]
  },
  {
   "cell_type": "code",
   "execution_count": 7,
   "id": "b88de95a",
   "metadata": {},
   "outputs": [],
   "source": [
    "import lxml"
   ]
  },
  {
   "cell_type": "code",
   "execution_count": 8,
   "id": "b6e3e790",
   "metadata": {},
   "outputs": [],
   "source": [
    "import bs4"
   ]
  },
  {
   "cell_type": "code",
   "execution_count": null,
   "id": "600a7b8c",
   "metadata": {},
   "outputs": [],
   "source": []
  }
 ],
 "metadata": {
  "kernelspec": {
   "display_name": "Python 3",
   "language": "python",
   "name": "python3"
  },
  "language_info": {
   "codemirror_mode": {
    "name": "ipython",
    "version": 3
   },
   "file_extension": ".py",
   "mimetype": "text/x-python",
   "name": "python",
   "nbconvert_exporter": "python",
   "pygments_lexer": "ipython3",
   "version": "3.8.8"
  }
 },
 "nbformat": 4,
 "nbformat_minor": 5
}
